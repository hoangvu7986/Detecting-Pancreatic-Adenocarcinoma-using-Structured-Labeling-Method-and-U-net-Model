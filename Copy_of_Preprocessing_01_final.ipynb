{
  "cells": [
    {
      "cell_type": "markdown",
      "metadata": {
        "id": "view-in-github",
        "colab_type": "text"
      },
      "source": [
        "<a href=\"https://colab.research.google.com/github/hoangvu7986/Detecting-Pancreatic-Adenocarcinoma-using-Structured-Labeling-Method-and-U-net-Model/blob/main/Copy_of_Preprocessing_01_final.ipynb\" target=\"_parent\"><img src=\"https://colab.research.google.com/assets/colab-badge.svg\" alt=\"Open In Colab\"/></a>"
      ]
    },
    {
      "cell_type": "code",
      "execution_count": null,
      "metadata": {
        "id": "rOYofd3Qou3R"
      },
      "outputs": [],
      "source": [
        "from google.colab import drive\n",
        "drive.mount('/content/drive')"
      ]
    },
    {
      "cell_type": "code",
      "execution_count": null,
      "metadata": {
        "id": "iCpL7--RpUx8"
      },
      "outputs": [],
      "source": [
        "pip install nibabel"
      ]
    },
    {
      "cell_type": "code",
      "execution_count": null,
      "metadata": {
        "id": "gFf3Kpm4o-0i"
      },
      "outputs": [],
      "source": [
        "import matplotlib.pyplot as plt\n",
        "import random\n",
        "import numpy as np\n",
        "import nibabel as nib\n",
        "import os\n",
        "from glob import glob as gl\n",
        "import cv2"
      ]
    },
    {
      "cell_type": "code",
      "source": [
        "image_test = nib.load('/content/drive/MyDrive/ppt/image/pancreas_001.nii.gz').get_fdata()\n",
        "label_test = nib.load('/content/drive/MyDrive/ppt/mask/pancreas_001.nii.gz').get_fdata()\n",
        "n = random.randint(0, 109)\n",
        "plt.figure(figsize=(10, 10))\n",
        "plt.subplot(1, 2, 1)\n",
        "plt.imshow(image_test[:, :, n])\n",
        "plt.subplot(1, 2, 2)\n",
        "plt.imshow(label_test[:,:,n])\n",
        "plt.show()"
      ],
      "metadata": {
        "id": "_WAYaVado9-2"
      },
      "execution_count": null,
      "outputs": []
    },
    {
      "cell_type": "code",
      "execution_count": null,
      "metadata": {
        "id": "VM4UW5S8pc9j"
      },
      "outputs": [],
      "source": [
        "path_root_image = '/content/drive/MyDrive/data/train/*'\n",
        "path_root_label = '/content/drive/MyDrive/data/label/*'"
      ]
    },
    {
      "cell_type": "code",
      "execution_count": null,
      "metadata": {
        "id": "D5Rmr51yxLV1"
      },
      "outputs": [],
      "source": [
        "def save_slices_with_all_numbers(paths, batch_size):\n",
        "  t = 0\n",
        "  for i in range(0, len(paths), batch_size):\n",
        "      batch_paths = paths[i:i+batch_size]\n",
        "      dir_image = batch_paths[0]\n",
        "      txt = dir_image.split('_')\n",
        "      image = nib.load(dir_image)\n",
        "      image_data = image.get_fdata()\n",
        "      img = nib.load('/content/drive/MyDrive/data/train/pancreas_'+str(txt[1]))\n",
        "      img_data = img.get_fdata()\n",
        "      for i in range(image_data.shape[2]):\n",
        "          slice_data = image_data[:, :, i]\n",
        "          unique_numbers = set(np.unique(slice_data))\n",
        "          if {0., 1., 2.}.issubset(unique_numbers):\n",
        "              np.save('/content/drive/MyDrive/tmp/label/label_' +str(t)+'.npy', slice_data)\n",
        "              np.save('/content/drive/MyDrive/tmp/image/image_' +str(t)+'.npy', img_data[:, :, i])\n",
        "              t += 1"
      ]
    },
    {
      "cell_type": "code",
      "execution_count": null,
      "metadata": {
        "id": "4qv-bJ2F1irX"
      },
      "outputs": [],
      "source": [
        "path_label = []\n",
        "for i in gl(path_root_label):\n",
        "  path_label.append(i)"
      ]
    },
    {
      "cell_type": "code",
      "execution_count": null,
      "metadata": {
        "id": "ZmLmpXutPU75"
      },
      "outputs": [],
      "source": [
        "save_slices_with_all_numbers(path_label, 1)"
      ]
    },
    {
      "cell_type": "code",
      "execution_count": null,
      "metadata": {
        "id": "apuqUrLpZL9x"
      },
      "outputs": [],
      "source": [
        "def find_min_max_of_ones(label):\n",
        "  min_i, min_j, max_i, max_j = 512, 512, 0, 0\n",
        "  for i in range(0, 512):\n",
        "      for j in range(0, 512):\n",
        "          if (label[i][j] == 1):\n",
        "              min_i = min(min_i, i)\n",
        "              min_j = min(min_j, j)\n",
        "              max_i = max(max_i, i)\n",
        "              max_j = max(max_j, j)\n",
        "  return (min_i - 1, max_i + 1, min_j - 1, max_j + 1)"
      ]
    },
    {
      "cell_type": "code",
      "source": [
        "path_image = '/content/drive/MyDrive/research/image/image_0.npy'\n",
        "path_label = '/content/drive/MyDrive/research/label/label_0.npy'\n",
        "image = np.load(path_image)\n",
        "label = np.load(path_label)"
      ],
      "metadata": {
        "id": "W54vUWilCu-L"
      },
      "execution_count": null,
      "outputs": []
    },
    {
      "cell_type": "code",
      "source": [
        "a, b, c, d = find_min_max_of_ones(label)\n",
        "print(a, b, c, d)"
      ],
      "metadata": {
        "id": "_vmeQonhD0Wd"
      },
      "execution_count": null,
      "outputs": []
    },
    {
      "cell_type": "code",
      "source": [
        "plt.figure(figsize = (10, 10))\n",
        "plt.subplot(1, 2, 1)\n",
        "plt.title('slice_0_of_image')\n",
        "plt.imshow(image, cmap = 'gray')\n",
        "plt.subplot(1, 2, 2)\n",
        "plt.title('slice_0_of_mask')\n",
        "plt.imshow(label)\n",
        "plt.show()"
      ],
      "metadata": {
        "id": "2WVlmyOYDEXC"
      },
      "execution_count": null,
      "outputs": []
    },
    {
      "cell_type": "code",
      "execution_count": null,
      "metadata": {
        "id": "j2DS_qomEg5E"
      },
      "outputs": [],
      "source": [
        "for i in range(0, 100):\n",
        "  path_img = '/content/drive/MyDrive/research/image/image_'+str(i)+'.npy'\n",
        "  path_msk = '/content/drive/MyDrive/research/label/label_'+str(i)+'.npy'\n",
        "  img = np.load(path_img)\n",
        "  msk = np.load(path_msk)\n",
        "  #min_i, max_i, min_j, max_j = find_min_max_of_ones(msk)\n",
        "  #min_i -= 0\n",
        "  #max_i += 1\n",
        "  #max_j += 1\n",
        "  #min_j -= 0\n",
        "  print('Hinh thu: ', i)\n",
        "  plt.figure(figsize = (10, 10))\n",
        "  plt.subplot(1, 2, 1)\n",
        "  plt.imshow(msk)\n",
        "  plt.subplot(1, 2, 2)\n",
        "  plt.imshow(img, cmap = 'gray')\n",
        "  plt.show()\n",
        "  #np.save('/content/drive/MyDrive/research/image/image_'+str(i), img[min_i:max_i, min_j:max_j])\n",
        "  #np.save('/content/drive/MyDrive/research/label/label_'+str(i), msk[min_i:max_i, min_j:max_j])"
      ]
    },
    {
      "cell_type": "code",
      "source": [
        "image = np.load('/content/drive/MyDrive/research/image/image_42.npy')\n",
        "lbl = np.load('/content/drive/MyDrive/research/label/label_42.npy')"
      ],
      "metadata": {
        "id": "qGlw6KhJJMIq"
      },
      "execution_count": null,
      "outputs": []
    },
    {
      "cell_type": "code",
      "source": [
        "img = cv2.resize(image, (128, 128))\n",
        "img = np.expand_dims(img, axis=-1)\n",
        "lbl = cv2.resize(lbl, (128, 128))\n",
        "print(img.shape)\n",
        "print(lbl.shape)\n",
        "plt.figure(figsize = (10, 10))\n",
        "plt.subplot(1, 2, 1)\n",
        "plt.imshow(img[:, :, 0])\n",
        "plt.subplot(1, 2, 2)\n",
        "plt.imshow(lbl[:, :])\n",
        "plt.show()"
      ],
      "metadata": {
        "id": "M17jlKQwJQxw"
      },
      "execution_count": null,
      "outputs": []
    },
    {
      "cell_type": "code",
      "source": [
        "i = 2528\n",
        "path_img = '/content/drive/MyDrive/tmp/image/image_'+str(i)+'.npy'\n",
        "path_msk = '/content/drive/MyDrive/tmp/label/label_'+str(i)+'.npy'\n",
        "img = np.load(path_img)\n",
        "msk = np.load(path_msk)"
      ],
      "metadata": {
        "id": "3-rFd2BUmg-N"
      },
      "execution_count": null,
      "outputs": []
    },
    {
      "cell_type": "code",
      "execution_count": null,
      "metadata": {
        "id": "_SXza53ZEyWu"
      },
      "outputs": [],
      "source": [
        "min_i, max_i, min_j, max_j = find_min_max_of_ones(msk)\n",
        "min_i -= 0\n",
        "max_i += 1\n",
        "max_j += 1\n",
        "min_j -= 0\n",
        "plt.figure(figsize = (10, 10))\n",
        "plt.subplot(1, 2, 1)\n",
        "plt.imshow(msk[min_i:max_i, min_j:max_j])\n",
        "plt.subplot(1, 2, 2)\n",
        "plt.imshow(img[min_i:max_i, min_j:max_j], cmap = 'gray')\n",
        "plt.show()"
      ]
    },
    {
      "cell_type": "code",
      "execution_count": null,
      "metadata": {
        "id": "UcmL8D9NGPxn"
      },
      "outputs": [],
      "source": [
        "np.save('/content/drive/MyDrive/research/image/image_'+str(i), img[min_i:max_i, min_j:max_j])\n",
        "np.save('/content/drive/MyDrive/research/label/label_'+str(i), msk[min_i:max_i, min_j:max_j])"
      ]
    },
    {
      "cell_type": "code",
      "source": [
        "plt.figure(figsize = (5, 5))\n",
        "plt.imshow(np.load('/content/drive/MyDrive/research/label/label_410.npy'))\n",
        "plt.show()"
      ],
      "metadata": {
        "id": "XQypD6EgtUSd"
      },
      "execution_count": null,
      "outputs": []
    }
  ],
  "metadata": {
    "colab": {
      "provenance": [],
      "include_colab_link": true
    },
    "kernelspec": {
      "display_name": "Python 3",
      "name": "python3"
    },
    "language_info": {
      "name": "python"
    }
  },
  "nbformat": 4,
  "nbformat_minor": 0
}